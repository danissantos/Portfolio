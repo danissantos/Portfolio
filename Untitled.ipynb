{
 "cells": [
  {
   "cell_type": "markdown",
   "metadata": {},
   "source": [
    "Ciência de Dados e Informática para a Área da Saúde\n",
    "Trabalho - COVID-19 : Modelo preditivo e Storytelling\n",
    "\n",
    "\n",
    "\n",
    "Definição do Problema de Negócio\n",
    "\n",
    "Com base em resultados de exames laboratoriais - SARS-CoV-2 RT-PCR e adicionais - coletados de pacientes atendidos no Hospital Israelita Albert Einstein de São Paulo, onde todos os dados foram anonimizados seguindo as melhores práticas e recomendações internacionais, desenvolver um modelo preditivo para prever o resultado do teste para SARS-Cov-2 (COVID-19), se positivo ou negativo.\n",
    "\n",
    "IMPORTANTE\n",
    "\n",
    "Todos os dados clínicos foram padronizados para que tenham uma média zero e um desvio padrão unitário.\n",
    "\n",
    "Entrega\n",
    "\n",
    "Notebook: Todo o processo de desenvolvimento deverá ser apresentado de forma bem estruturada, bem definida e muito bem embasada. Todo o percurso, desde a importação dos dados e suas respectivas análises e preparações para a devida entrega aos algoritmos de Machine Learning até a avaliação final do modelo escolhido, deve ser percorrido utilizando-se os conceitos, as técnicas e as ferramentas aprendidas em sala de aula."
   ]
  }
 ],
 "metadata": {
  "kernelspec": {
   "display_name": "Python 3",
   "language": "python",
   "name": "python3"
  },
  "language_info": {
   "codemirror_mode": {
    "name": "ipython",
    "version": 3
   },
   "file_extension": ".py",
   "mimetype": "text/x-python",
   "name": "python",
   "nbconvert_exporter": "python",
   "pygments_lexer": "ipython3",
   "version": "3.8.3"
  }
 },
 "nbformat": 4,
 "nbformat_minor": 4
}
